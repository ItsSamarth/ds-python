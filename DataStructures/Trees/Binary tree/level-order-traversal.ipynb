{
 "cells": [
  {
   "cell_type": "markdown",
   "metadata": {},
   "source": [
    "# Level Order Tree Traversal"
   ]
  },
  {
   "cell_type": "markdown",
   "metadata": {},
   "source": [
    "Level order traversal of a tree is breadth first traversal for the tree.\n",
    "\n",
    "Level order traversal of the above tree is 1 2 3 4 5"
   ]
  },
  {
   "cell_type": "raw",
   "metadata": {},
   "source": [
    "METHOD 1 (Use function to print a given level)\n",
    "\n",
    "/*Function to print level order traversal of tree*/\n",
    "printLevelorder(tree)\n",
    "for d = 1 to height(tree)\n",
    "   printGivenLevel(tree, d);\n",
    "\n",
    "/*Function to print all nodes at a given level*/\n",
    "printGivenLevel(tree, level)\n",
    "if tree is NULL then return;\n",
    "if level is 1, then\n",
    "    print(tree->data);\n",
    "else if level greater than 1, then\n",
    "    printGivenLevel(tree->left, level-1);\n",
    "    printGivenLevel(tree->right, level-1);"
   ]
  },
  {
   "cell_type": "markdown",
   "metadata": {},
   "source": [
    "# Implementation"
   ]
  },
  {
   "cell_type": "code",
   "execution_count": 4,
   "metadata": {},
   "outputs": [
    {
     "name": "stdout",
     "output_type": "stream",
     "text": [
      "Level order traversal of binary tree is -\n",
      "1\n",
      "2\n",
      "3\n",
      "4\n",
      "5\n"
     ]
    }
   ],
   "source": [
    "# Recursive Python program for level order traversal of Binary Tree \n",
    "  \n",
    "# A node structure \n",
    "class Node: \n",
    "  \n",
    "    # A utility function to create a new node \n",
    "    def __init__(self, key): \n",
    "        self.data = key  \n",
    "        self.left = None\n",
    "        self.right = None\n",
    "  \n",
    "  \n",
    "# Function to  print level order traversal of tree \n",
    "def printLevelOrder(root): \n",
    "    h = height(root) \n",
    "    for i in range(1, h+1): \n",
    "        printGivenLevel(root, i) \n",
    "  \n",
    "  \n",
    "# Print nodes at a given level \n",
    "def printGivenLevel(root , level): \n",
    "    if root is None: \n",
    "        return\n",
    "    if level == 1: \n",
    "        print(root.data) \n",
    "    elif level > 1 : \n",
    "        printGivenLevel(root.left , level-1) \n",
    "        printGivenLevel(root.right , level-1) \n",
    "  \n",
    "  \n",
    "\"\"\" Compute the height of a tree--the number of nodes \n",
    "    along the longest path from the root node down to \n",
    "    the farthest leaf node \n",
    "\"\"\"\n",
    "def height(node): \n",
    "    if node is None: \n",
    "        return 0 \n",
    "    else : \n",
    "        # Compute the height of each subtree  \n",
    "        lheight = height(node.left) \n",
    "        rheight = height(node.right) \n",
    "  \n",
    "        #Use the larger one \n",
    "        if lheight > rheight : \n",
    "            return lheight+1\n",
    "        else: \n",
    "            return rheight+1\n",
    "  \n",
    "# Driver program to test above function \n",
    "root = Node(1) \n",
    "root.left = Node(2) \n",
    "root.right = Node(3) \n",
    "root.left.left = Node(4) \n",
    "root.left.right = Node(5) \n",
    "  \n",
    "print (\"Level order traversal of binary tree is -\")\n",
    "printLevelOrder(root) \n",
    "  \n"
   ]
  },
  {
   "cell_type": "code",
   "execution_count": 55,
   "metadata": {},
   "outputs": [],
   "source": [
    "class Node:\n",
    "    def __init__(self, key):\n",
    "        self.left  = None\n",
    "        self.right = None\n",
    "        self.val   = key"
   ]
  },
  {
   "cell_type": "code",
   "execution_count": 56,
   "metadata": {},
   "outputs": [],
   "source": [
    "#function to print level order traversal of a tree\n",
    "def height(node):\n",
    "    if node is None:\n",
    "        return 0\n",
    "    else:\n",
    "        #compute the height of each subtree\n",
    "        lheight = height(node.left)\n",
    "        rheight = height(node.right)\n",
    "        \n",
    "        #use the larger one\n",
    "        if lheight > rheight:\n",
    "            return lheight+1\n",
    "        else:\n",
    "            return rheight+1"
   ]
  },
  {
   "cell_type": "code",
   "execution_count": 57,
   "metadata": {},
   "outputs": [],
   "source": [
    "def printLevelOrder(root):\n",
    "    h = height(root)\n",
    "    print(root.val)\n",
    "    print(h)\n",
    "    print('hurayy')\n",
    "    for i in range(1, h+1):\n",
    "        printGivenLevel(root, i)"
   ]
  },
  {
   "cell_type": "code",
   "execution_count": 58,
   "metadata": {},
   "outputs": [],
   "source": [
    "#print node at given level \n",
    "def printGivenLevel(root, level):\n",
    "    if root is None:\n",
    "        return\n",
    "    if level == 1:\n",
    "        print(root.val)\n",
    "    elif level>1:\n",
    "        printGivenLevel(root.left, level-1)\n",
    "        printGivenLevel(root.right, level-1)"
   ]
  },
  {
   "cell_type": "code",
   "execution_count": 59,
   "metadata": {},
   "outputs": [
    {
     "name": "stdout",
     "output_type": "stream",
     "text": [
      "Level order traversal of binary tree is-\n",
      "1\n",
      "3\n",
      "hurayy\n",
      "1\n",
      "2\n",
      "3\n",
      "4\n",
      "5\n"
     ]
    }
   ],
   "source": [
    "root = Node(1)\n",
    "root.left = Node(2)\n",
    "root.right= Node(3)\n",
    "root.left.left = Node(4)\n",
    "root.left.right = Node(5)\n",
    "\n",
    "print(\"Level order traversal of binary tree is-\")\n",
    "printLevelOrder(root)"
   ]
  },
  {
   "cell_type": "markdown",
   "metadata": {},
   "source": [
    "# METHOD 2 (Use Queue)"
   ]
  },
  {
   "cell_type": "raw",
   "metadata": {},
   "source": [
    "Algorithm:\n",
    "For each node, first the node is visited and then it’s child nodes are put in a FIFO queue.\n",
    "\n",
    "printLevelorder(tree)\n",
    "1) Create an empty queue q\n",
    "2) temp_node = root /*start from root*/\n",
    "3) Loop while temp_node is not NULL\n",
    "    a) print temp_node->data.\n",
    "    b) Enqueue temp_node’s children (first left then right children) to q\n",
    "    c) Dequeue a node from q and assign it’s value to temp_node"
   ]
  },
  {
   "cell_type": "code",
   "execution_count": 4,
   "metadata": {},
   "outputs": [],
   "source": [
    "class Node:\n",
    "    def __init__(self, key):\n",
    "        self.left = None\n",
    "        self.right = None\n",
    "        self.val = key"
   ]
  },
  {
   "cell_type": "code",
   "execution_count": 5,
   "metadata": {},
   "outputs": [],
   "source": [
    "def printLevelOrder(root):\n",
    "    if root is None:\n",
    "        return\n",
    "    \n",
    "    #create an empty queue for level order traversal \n",
    "    queue = []\n",
    "    \n",
    "    #enqueue root and initlize height\n",
    "    queue.append(root)\n",
    "    \n",
    "    while(len(queue) > 0):\n",
    "        print(queue[0].val)\n",
    "        node = queue.pop(0)\n",
    "        \n",
    "        #enqueue left child\n",
    "        if node.left is not None:\n",
    "            queue.append(node.left)\n",
    "            \n",
    "        #enqueue Right child\n",
    "        if node.right is not None:\n",
    "            queue.append(node.right)"
   ]
  },
  {
   "cell_type": "code",
   "execution_count": 6,
   "metadata": {},
   "outputs": [
    {
     "name": "stdout",
     "output_type": "stream",
     "text": [
      "Level order traversal of binary tree is\n",
      "1\n",
      "2\n",
      "3\n",
      "4\n",
      "5\n"
     ]
    }
   ],
   "source": [
    "root = Node(1)\n",
    "root.left = Node(2)\n",
    "root.right = Node(3)\n",
    "root.left.left = Node(4)\n",
    "root.left.right = Node(5)\n",
    "\n",
    "print(\"Level order traversal of binary tree is\")\n",
    "printLevelOrder(root)"
   ]
  },
  {
   "cell_type": "code",
   "execution_count": 7,
   "metadata": {},
   "outputs": [
    {
     "name": "stdout",
     "output_type": "stream",
     "text": [
      "1\n",
      "2\n",
      "3\n",
      "4\n",
      "5\n",
      "6\n",
      "7\n"
     ]
    }
   ],
   "source": [
    "class Node:\n",
    "    def __init__(self, key):\n",
    "        self.left = None\n",
    "        self.right= None\n",
    "        self.val = key\n",
    "        \n",
    "    def printLevelOrder(root):\n",
    "        if root is None:\n",
    "            return\n",
    "        \n",
    "        queue=[]\n",
    "        queue.append(root)\n",
    "        \n",
    "        while(len(queue)>0):\n",
    "            print(queue[0].val)\n",
    "            node = queue.pop(0)\n",
    "            \n",
    "            if node.left is not None:\n",
    "                queue.append(node.left)\n",
    "                \n",
    "            if node.right is not None:\n",
    "                queue.append(node.right)\n",
    "                \n",
    "                \n",
    "root = Node(1)\n",
    "root.left = Node(2)\n",
    "root.right = Node(3)\n",
    "root.left.left = Node(4)\n",
    "root.left.right = Node(5)\n",
    "root.right.left = Node(6)\n",
    "root.right.right = Node(7)\n",
    "\n",
    "printLevelOrder(root)"
   ]
  },
  {
   "cell_type": "markdown",
   "metadata": {},
   "source": [
    "# Inorder Tree Traversal without Recursion"
   ]
  },
  {
   "cell_type": "raw",
   "metadata": {},
   "source": [
    "1) Create an empty stack S.\n",
    "2) Initialize current node as root\n",
    "3) Push the current node to S and set current = current->left until current is NULL\n",
    "4) If current is NULL and stack is not empty then \n",
    "     a) Pop the top item from stack.\n",
    "     b) Print the popped item, set current = popped_item->right \n",
    "     c) Go to step 3.\n",
    "5) If current is NULL and stack is empty then we are done."
   ]
  },
  {
   "cell_type": "code",
   "execution_count": 12,
   "metadata": {},
   "outputs": [],
   "source": [
    "class Node:\n",
    "    def __init__(self,key):\n",
    "        self.left = None\n",
    "        self.right = None\n",
    "        self.val = key"
   ]
  },
  {
   "cell_type": "code",
   "execution_count": 17,
   "metadata": {},
   "outputs": [],
   "source": [
    "def inOrderTraversal(root):\n",
    "    current = root\n",
    "    stack = []\n",
    "    complete = False\n",
    "    \n",
    "    while not complete:\n",
    "        if current is not None:\n",
    "            stack.append(current)\n",
    "            current = current.left\n",
    "            \n",
    "        else:\n",
    "            if len(stack) > 0:\n",
    "                current = stack.pop()\n",
    "                print(current.val)\n",
    "                current= current.right\n",
    "                \n",
    "            else:\n",
    "                complete = True"
   ]
  },
  {
   "cell_type": "code",
   "execution_count": 18,
   "metadata": {},
   "outputs": [
    {
     "name": "stdout",
     "output_type": "stream",
     "text": [
      "4\n",
      "2\n",
      "5\n",
      "1\n",
      "3\n"
     ]
    }
   ],
   "source": [
    "root = Node(1)\n",
    "root.left = Node(2)\n",
    "root.right = Node(3)\n",
    "root.left.left = Node(4)\n",
    "root.left.right = Node(5)\n",
    "\n",
    "inOrderTraversal(root)"
   ]
  },
  {
   "cell_type": "code",
   "execution_count": null,
   "metadata": {},
   "outputs": [],
   "source": []
  }
 ],
 "metadata": {
  "kernelspec": {
   "display_name": "Python 3",
   "language": "python",
   "name": "python3"
  },
  "language_info": {
   "codemirror_mode": {
    "name": "ipython",
    "version": 3
   },
   "file_extension": ".py",
   "mimetype": "text/x-python",
   "name": "python",
   "nbconvert_exporter": "python",
   "pygments_lexer": "ipython3",
   "version": "3.7.0"
  }
 },
 "nbformat": 4,
 "nbformat_minor": 2
}
