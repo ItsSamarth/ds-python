{
 "cells": [
  {
   "cell_type": "markdown",
   "metadata": {},
   "source": [
    "# Diameter of a Binary Tree"
   ]
  },
  {
   "cell_type": "code",
   "execution_count": 25,
   "metadata": {},
   "outputs": [],
   "source": [
    "class Node:\n",
    "    def __init__(self, key):\n",
    "        self.left = None\n",
    "        self.right = None\n",
    "        self.val = key\n",
    "        \n",
    "def height(node):\n",
    "    if node is None:\n",
    "        return 0\n",
    "        \n",
    "    return 1 + max(height(node.left), height(node.right))\n",
    "    \n",
    "def diameter(root):\n",
    "    if root is None:\n",
    "        return 0\n",
    "        \n",
    "    lheight = height(root.left)\n",
    "    rheight = height(root.right)\n",
    "    \n",
    "    ldiameter = diameter(root.left)\n",
    "    rdiameter = diameter(root.right)\n",
    "    \n",
    "       # Return max of the following tree: \n",
    "    # 1) Diameter of left subtree \n",
    "    # 2) Diameter of right subtree \n",
    "    # 3) Height of left subtree + height of right subtree +1  \n",
    "    return max(lheight + rheight + 1, max(ldiameter, rdiameter)) \n",
    "#print(\"Diameter of given binary tree is \", diameter(root))\n"
   ]
  },
  {
   "cell_type": "code",
   "execution_count": 26,
   "metadata": {},
   "outputs": [
    {
     "name": "stdout",
     "output_type": "stream",
     "text": [
      "2\n",
      "1\n",
      "1\n",
      "1\n",
      "0\n",
      "0\n",
      "0\n",
      "0\n",
      "0\n",
      "0\n",
      "0\n",
      "0\n",
      "1\n",
      "1\n",
      "0\n",
      "0\n",
      "0\n",
      "0\n",
      "3\n",
      "1\n"
     ]
    },
    {
     "data": {
      "text/plain": [
       "4"
      ]
     },
     "execution_count": 26,
     "metadata": {},
     "output_type": "execute_result"
    }
   ],
   "source": [
    "root = Node(1) \n",
    "root.left = Node(2) \n",
    "root.right = Node(3) \n",
    "root.left.left = Node(4) \n",
    "root.left.right = Node(5) \n",
    "diameter(root)"
   ]
  },
  {
   "cell_type": "code",
   "execution_count": null,
   "metadata": {},
   "outputs": [],
   "source": []
  }
 ],
 "metadata": {
  "kernelspec": {
   "display_name": "Python 3",
   "language": "python",
   "name": "python3"
  },
  "language_info": {
   "codemirror_mode": {
    "name": "ipython",
    "version": 3
   },
   "file_extension": ".py",
   "mimetype": "text/x-python",
   "name": "python",
   "nbconvert_exporter": "python",
   "pygments_lexer": "ipython3",
   "version": "3.7.0"
  }
 },
 "nbformat": 4,
 "nbformat_minor": 2
}
