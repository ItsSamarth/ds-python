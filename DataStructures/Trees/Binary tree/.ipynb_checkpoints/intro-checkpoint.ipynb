{
 "cells": [
  {
   "cell_type": "markdown",
   "metadata": {},
   "source": [
    "# A simple tree with 4 nodes\n",
    "      tree\n",
    "      ----\n",
    "       1    <-- root\n",
    "     /   \\\n",
    "    2     3  \n",
    "   /   \n",
    "  4"
   ]
  },
  {
   "cell_type": "code",
   "execution_count": 36,
   "metadata": {},
   "outputs": [
    {
     "name": "stdout",
     "output_type": "stream",
     "text": [
      "4\n",
      "2\n",
      "1\n",
      "3\n"
     ]
    }
   ],
   "source": [
    "class Node:\n",
    "    def __init__(self,key):\n",
    "        self.left = None\n",
    "        self.right= None\n",
    "        self.val = key \n",
    "        \n",
    "    def printTree(self):\n",
    "        if self.left:\n",
    "            self.left.printTree()\n",
    "        print(self.val)\n",
    "        if self.right:\n",
    "            self.right.printTree()\n",
    "        \n",
    "root = Node(1)\n",
    "root.left = Node(2)\n",
    "root.right = Node(3)\n",
    "root.left.left = Node(4)\n",
    "root.printTree()"
   ]
  },
  {
   "cell_type": "code",
   "execution_count": 20,
   "metadata": {},
   "outputs": [
    {
     "data": {
      "text/plain": [
       "'4 becomes left child of 2 \\n           1 \\n       /       \\\\ \\n      2          3 \\n    /   \\\\       /  \\\\ \\n   4    None  None  None \\n  /  \\\\ \\nNone None'"
      ]
     },
     "execution_count": 20,
     "metadata": {},
     "output_type": "execute_result"
    }
   ],
   "source": [
    "# Python program to introduce Binary Tree \n",
    "  \n",
    "# A class that represents an individual node in a \n",
    "# Binary Tree \n",
    "class Node: \n",
    "    def __init__(self,key): \n",
    "        self.left = None\n",
    "        self.right = None\n",
    "        self.val = key \n",
    "  \n",
    "  \n",
    "# create root \n",
    "root = Node(1) \n",
    "''' following is the tree after above statement \n",
    "        1 \n",
    "      /   \\ \n",
    "     None  None'''\n",
    "  \n",
    "root.left      = Node(2); \n",
    "root.right     = Node(3); \n",
    "    \n",
    "''' 2 and 3 become left and right children of 1 \n",
    "           1 \n",
    "         /   \\ \n",
    "        2      3 \n",
    "     /    \\    /  \\ \n",
    "   None None None None'''\n",
    "  \n",
    "  \n",
    "root.left.left  = Node(4); \n",
    "'''4 becomes left child of 2 \n",
    "           1 \n",
    "       /       \\ \n",
    "      2          3 \n",
    "    /   \\       /  \\ \n",
    "   4    None  None  None \n",
    "  /  \\ \n",
    "None None'''"
   ]
  },
  {
   "cell_type": "code",
   "execution_count": null,
   "metadata": {},
   "outputs": [],
   "source": [
    "    "
   ]
  }
 ],
 "metadata": {
  "kernelspec": {
   "display_name": "Python 3",
   "language": "python",
   "name": "python3"
  },
  "language_info": {
   "codemirror_mode": {
    "name": "ipython",
    "version": 3
   },
   "file_extension": ".py",
   "mimetype": "text/x-python",
   "name": "python",
   "nbconvert_exporter": "python",
   "pygments_lexer": "ipython3",
   "version": "3.7.0"
  }
 },
 "nbformat": 4,
 "nbformat_minor": 2
}
