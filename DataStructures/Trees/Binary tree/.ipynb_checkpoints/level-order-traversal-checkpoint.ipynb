{
 "cells": [
  {
   "cell_type": "markdown",
   "metadata": {},
   "source": [
    "# Level Order Tree Traversal"
   ]
  },
  {
   "cell_type": "markdown",
   "metadata": {},
   "source": [
    "Level order traversal of a tree is breadth first traversal for the tree.\n",
    "\n",
    "Level order traversal of the above tree is 1 2 3 4 5"
   ]
  },
  {
   "cell_type": "raw",
   "metadata": {},
   "source": [
    "METHOD 1 (Use function to print a given level)\n",
    "\n",
    "/*Function to print level order traversal of tree*/\n",
    "printLevelorder(tree)\n",
    "for d = 1 to height(tree)\n",
    "   printGivenLevel(tree, d);\n",
    "\n",
    "/*Function to print all nodes at a given level*/\n",
    "printGivenLevel(tree, level)\n",
    "if tree is NULL then return;\n",
    "if level is 1, then\n",
    "    print(tree->data);\n",
    "else if level greater than 1, then\n",
    "    printGivenLevel(tree->left, level-1);\n",
    "    printGivenLevel(tree->right, level-1);"
   ]
  },
  {
   "cell_type": "markdown",
   "metadata": {},
   "source": [
    "# Implementation"
   ]
  },
  {
   "cell_type": "code",
   "execution_count": 4,
   "metadata": {},
   "outputs": [
    {
     "name": "stdout",
     "output_type": "stream",
     "text": [
      "Level order traversal of binary tree is -\n",
      "1\n",
      "2\n",
      "3\n",
      "4\n",
      "5\n"
     ]
    }
   ],
   "source": [
    "# Recursive Python program for level order traversal of Binary Tree \n",
    "  \n",
    "# A node structure \n",
    "class Node: \n",
    "  \n",
    "    # A utility function to create a new node \n",
    "    def __init__(self, key): \n",
    "        self.data = key  \n",
    "        self.left = None\n",
    "        self.right = None\n",
    "  \n",
    "  \n",
    "# Function to  print level order traversal of tree \n",
    "def printLevelOrder(root): \n",
    "    h = height(root) \n",
    "    for i in range(1, h+1): \n",
    "        printGivenLevel(root, i) \n",
    "  \n",
    "  \n",
    "# Print nodes at a given level \n",
    "def printGivenLevel(root , level): \n",
    "    if root is None: \n",
    "        return\n",
    "    if level == 1: \n",
    "        print(root.data) \n",
    "    elif level > 1 : \n",
    "        printGivenLevel(root.left , level-1) \n",
    "        printGivenLevel(root.right , level-1) \n",
    "  \n",
    "  \n",
    "\"\"\" Compute the height of a tree--the number of nodes \n",
    "    along the longest path from the root node down to \n",
    "    the farthest leaf node \n",
    "\"\"\"\n",
    "def height(node): \n",
    "    if node is None: \n",
    "        return 0 \n",
    "    else : \n",
    "        # Compute the height of each subtree  \n",
    "        lheight = height(node.left) \n",
    "        rheight = height(node.right) \n",
    "  \n",
    "        #Use the larger one \n",
    "        if lheight > rheight : \n",
    "            return lheight+1\n",
    "        else: \n",
    "            return rheight+1\n",
    "  \n",
    "# Driver program to test above function \n",
    "root = Node(1) \n",
    "root.left = Node(2) \n",
    "root.right = Node(3) \n",
    "root.left.left = Node(4) \n",
    "root.left.right = Node(5) \n",
    "  \n",
    "print (\"Level order traversal of binary tree is -\")\n",
    "printLevelOrder(root) \n",
    "  \n"
   ]
  },
  {
   "cell_type": "code",
   "execution_count": 10,
   "metadata": {},
   "outputs": [],
   "source": [
    "class Node:\n",
    "    def __init__(self, key):\n",
    "        self.left  = None\n",
    "        self.right = None\n",
    "        self.val   = key"
   ]
  },
  {
   "cell_type": "code",
   "execution_count": 11,
   "metadata": {},
   "outputs": [],
   "source": [
    "#function to print level order traversal of a tree\n",
    "def height(node):\n",
    "    if node is None:\n",
    "        return 0\n",
    "    else:\n",
    "        #compute the height of each subtree\n",
    "        lheight = height(node.left)\n",
    "        rheight = height(node.right)\n",
    "        \n",
    "        #use the larger one\n",
    "        if lheight > rheight:\n",
    "            return lheight+1\n",
    "        else:\n",
    "            return rheight+1"
   ]
  },
  {
   "cell_type": "code",
   "execution_count": 12,
   "metadata": {},
   "outputs": [],
   "source": [
    "def printLevelOrder(root):\n",
    "    h = height(root)\n",
    "    print(\"root\", root)\n",
    "    print(\"height\", h)\n",
    "    for i in range(i, h+1):\n",
    "        printGivenLevel(root, i)"
   ]
  },
  {
   "cell_type": "code",
   "execution_count": 13,
   "metadata": {},
   "outputs": [],
   "source": [
    "#print node at given level \n",
    "def printGivenLevel(root, level):\n",
    "    if root is None:\n",
    "        return\n",
    "    if level == 1:\n",
    "        print(root.data)\n",
    "    elif level>1:\n",
    "        printGivenRoot(root.left, level-1)\n",
    "        printGivenRoot(root.right, level-1)"
   ]
  },
  {
   "cell_type": "code",
   "execution_count": 14,
   "metadata": {},
   "outputs": [
    {
     "name": "stdout",
     "output_type": "stream",
     "text": [
      "Level order traversal of binary tree is-\n",
      "lheight =  0\n",
      "node.left =  None\n",
      "rheight =  0\n",
      "node.right = None\n",
      "lheight =  0\n",
      "node.left =  None\n",
      "rheight =  0\n",
      "node.right = None\n",
      "lheight =  1\n",
      "node.left =  <__main__.Node object at 0x000001BCB8FDC550>\n",
      "rheight =  1\n",
      "node.right = <__main__.Node object at 0x000001BCB8FDC5C0>\n",
      "lheight =  0\n",
      "node.left =  None\n",
      "rheight =  0\n",
      "node.right = None\n",
      "lheight =  2\n",
      "node.left =  <__main__.Node object at 0x000001BCB8FDC4A8>\n",
      "rheight =  1\n",
      "node.right = <__main__.Node object at 0x000001BCB8FDC518>\n"
     ]
    },
    {
     "ename": "UnboundLocalError",
     "evalue": "local variable 'i' referenced before assignment",
     "output_type": "error",
     "traceback": [
      "\u001b[1;31m---------------------------------------------------------------------------\u001b[0m",
      "\u001b[1;31mUnboundLocalError\u001b[0m                         Traceback (most recent call last)",
      "\u001b[1;32m<ipython-input-14-4d67d270f7c3>\u001b[0m in \u001b[0;36m<module>\u001b[1;34m()\u001b[0m\n\u001b[0;32m      6\u001b[0m \u001b[1;33m\u001b[0m\u001b[0m\n\u001b[0;32m      7\u001b[0m \u001b[0mprint\u001b[0m\u001b[1;33m(\u001b[0m\u001b[1;34m\"Level order traversal of binary tree is-\"\u001b[0m\u001b[1;33m)\u001b[0m\u001b[1;33m\u001b[0m\u001b[0m\n\u001b[1;32m----> 8\u001b[1;33m \u001b[0mprintLevelOrder\u001b[0m\u001b[1;33m(\u001b[0m\u001b[0mroot\u001b[0m\u001b[1;33m)\u001b[0m\u001b[1;33m\u001b[0m\u001b[0m\n\u001b[0m",
      "\u001b[1;32m<ipython-input-12-339f41727c43>\u001b[0m in \u001b[0;36mprintLevelOrder\u001b[1;34m(root)\u001b[0m\n\u001b[0;32m      1\u001b[0m \u001b[1;32mdef\u001b[0m \u001b[0mprintLevelOrder\u001b[0m\u001b[1;33m(\u001b[0m\u001b[0mroot\u001b[0m\u001b[1;33m)\u001b[0m\u001b[1;33m:\u001b[0m\u001b[1;33m\u001b[0m\u001b[0m\n\u001b[0;32m      2\u001b[0m     \u001b[0mh\u001b[0m \u001b[1;33m=\u001b[0m \u001b[0mheight\u001b[0m\u001b[1;33m(\u001b[0m\u001b[0mroot\u001b[0m\u001b[1;33m)\u001b[0m\u001b[1;33m\u001b[0m\u001b[0m\n\u001b[1;32m----> 3\u001b[1;33m     \u001b[1;32mfor\u001b[0m \u001b[0mi\u001b[0m \u001b[1;32min\u001b[0m \u001b[0mrange\u001b[0m\u001b[1;33m(\u001b[0m\u001b[0mi\u001b[0m\u001b[1;33m,\u001b[0m \u001b[0mh\u001b[0m\u001b[1;33m+\u001b[0m\u001b[1;36m1\u001b[0m\u001b[1;33m)\u001b[0m\u001b[1;33m:\u001b[0m\u001b[1;33m\u001b[0m\u001b[0m\n\u001b[0m\u001b[0;32m      4\u001b[0m         \u001b[0mprintGivenLevel\u001b[0m\u001b[1;33m(\u001b[0m\u001b[0mroot\u001b[0m\u001b[1;33m,\u001b[0m \u001b[0mi\u001b[0m\u001b[1;33m)\u001b[0m\u001b[1;33m\u001b[0m\u001b[0m\n",
      "\u001b[1;31mUnboundLocalError\u001b[0m: local variable 'i' referenced before assignment"
     ]
    }
   ],
   "source": [
    "root = Node(1)\n",
    "root.left = Node(2)\n",
    "root.right= Node(3)\n",
    "root.left.left = Node(4)\n",
    "root.left.right = Node(5)\n",
    "\n",
    "print(\"Level order traversal of binary tree is-\")\n",
    "printLevelOrder(root)"
   ]
  },
  {
   "cell_type": "code",
   "execution_count": null,
   "metadata": {},
   "outputs": [],
   "source": []
  }
 ],
 "metadata": {
  "kernelspec": {
   "display_name": "Python 3",
   "language": "python",
   "name": "python3"
  },
  "language_info": {
   "codemirror_mode": {
    "name": "ipython",
    "version": 3
   },
   "file_extension": ".py",
   "mimetype": "text/x-python",
   "name": "python",
   "nbconvert_exporter": "python",
   "pygments_lexer": "ipython3",
   "version": "3.7.0"
  }
 },
 "nbformat": 4,
 "nbformat_minor": 2
}
