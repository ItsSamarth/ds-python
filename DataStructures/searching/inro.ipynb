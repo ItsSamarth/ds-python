{
 "cells": [
  {
   "cell_type": "markdown",
   "metadata": {},
   "source": [
    "# Linear Search "
   ]
  },
  {
   "cell_type": "raw",
   "metadata": {},
   "source": [
    "Input : arr[] = {10, 20, 80, 30, 60, 50, \n",
    "                     110, 100, 130, 170}\n",
    "          x = 110;\n",
    "Output : 6\n",
    "Element x is present at index 6\n",
    "\n",
    "Input : arr[] = {10, 20, 80, 30, 60, 50, \n",
    "                     110, 100, 130, 170}\n",
    "           x = 175;\n",
    "Output : -1\n",
    "Element x is not present in arr[]."
   ]
  },
  {
   "cell_type": "code",
   "execution_count": null,
   "metadata": {},
   "outputs": [],
   "source": [
    "def search(arr, key):\n",
    "    for i in range(len(arr)):\n",
    "        if arr[i] == key:\n",
    "            return i\n",
    "        \n",
    "    return -1\n",
    "\n",
    "\n",
    "arr = [10, 20, 80, 30, 60, 50, 110, 100, 130, 170]\n",
    "x = 110\n",
    "\n",
    "print(search(arr, x))"
   ]
  },
  {
   "cell_type": "markdown",
   "metadata": {},
   "source": [
    "Time complexity = o(n)"
   ]
  },
  {
   "cell_type": "markdown",
   "metadata": {},
   "source": [
    "# Binary Search"
   ]
  },
  {
   "cell_type": "raw",
   "metadata": {},
   "source": [
    "Iterative approach"
   ]
  },
  {
   "cell_type": "code",
   "execution_count": 1,
   "metadata": {},
   "outputs": [
    {
     "name": "stdout",
     "output_type": "stream",
     "text": [
      "0\n",
      "10\n",
      "4\n",
      "9\n",
      "8\n"
     ]
    },
    {
     "data": {
      "text/plain": [
       "8"
      ]
     },
     "execution_count": 1,
     "metadata": {},
     "output_type": "execute_result"
    }
   ],
   "source": [
    "def binarySearch(arr, element , left, right):\n",
    "    print(left)\n",
    "    print(right)\n",
    "    while left<=right:\n",
    "        mid = int(left + (right-1)/2)\n",
    "        print(mid)\n",
    "        if arr[mid] == element:\n",
    "            return mid\n",
    "            \n",
    "        elif arr[mid] < element:\n",
    "            left = mid+1\n",
    "                \n",
    "        else:\n",
    "            right = mid-1\n",
    "        \n",
    "    return -1\n",
    "    \n",
    "\n",
    "arr = [10, 20,  30, 40, 80, 90,100, 130, 110, 150, 170]\n",
    "element = 110\n",
    "\n",
    "binarySearch(arr, element, 0, len(arr)-1)  \n"
   ]
  },
  {
   "cell_type": "raw",
   "metadata": {},
   "source": [
    "Time complexity: T(n) = T(n/2) + c "
   ]
  },
  {
   "cell_type": "raw",
   "metadata": {},
   "source": [
    "Recursive implementation of Binary Search"
   ]
  },
  {
   "cell_type": "code",
   "execution_count": 11,
   "metadata": {},
   "outputs": [
    {
     "name": "stdout",
     "output_type": "stream",
     "text": [
      "coming inside\n",
      "coming inside\n",
      "coming inside\n",
      "8\n",
      "None\n"
     ]
    }
   ],
   "source": [
    "def binarySearch(arr, element , left, right):\n",
    "#     print(left)\n",
    "#     print(right)\n",
    "    if right >=1:\n",
    "        print('coming inside')\n",
    "        \n",
    "        mid  = int(left +(right-1)/2)\n",
    "        \n",
    "        if arr[mid] == element:\n",
    "            print(mid)\n",
    "            return mid\n",
    "        elif arr[mid] > element:\n",
    "            binarySearch(arr, element, left, mid-1)\n",
    "        else:\n",
    "            binarySearch(arr, element, mid+1 , right)\n",
    "            \n",
    "    else:\n",
    "        return -1\n",
    "\n",
    "arr = [10, 20,  30, 40, 80, 90,100, 130, 110, 150, 170]\n",
    "element = 110\n",
    "\n",
    "print(binarySearch(arr, element, 0, len(arr)-1) )\n"
   ]
  },
  {
   "cell_type": "code",
   "execution_count": null,
   "metadata": {},
   "outputs": [],
   "source": []
  }
 ],
 "metadata": {
  "kernelspec": {
   "display_name": "Python 3",
   "language": "python",
   "name": "python3"
  },
  "language_info": {
   "codemirror_mode": {
    "name": "ipython",
    "version": 3
   },
   "file_extension": ".py",
   "mimetype": "text/x-python",
   "name": "python",
   "nbconvert_exporter": "python",
   "pygments_lexer": "ipython3",
   "version": "3.7.0"
  }
 },
 "nbformat": 4,
 "nbformat_minor": 2
}
