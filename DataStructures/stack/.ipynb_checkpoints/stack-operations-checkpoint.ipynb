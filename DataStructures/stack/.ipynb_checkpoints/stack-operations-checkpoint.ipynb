{
 "cells": [
  {
   "cell_type": "markdown",
   "metadata": {},
   "source": [
    "# Applications of stack"
   ]
  },
  {
   "cell_type": "markdown",
   "metadata": {},
   "source": [
    "<ol>\n",
    "    <li>Balancing of symbols</li>\n",
    "    <li>Infix to Postfix /Prefix conversion</li>\n",
    "    <li>Redo-undo features at many places like editors, photoshop.</li>\n",
    "    <li>Forward and backward feature in web browsers</li>\n",
    "    <li>Used in many algorithms like Tower of Hanoi, tree traversals, stock span problem, histogram problem.</li>\n",
    "    <li>Other applications can be Backtracking, Knight tour problem, rat in a maze, N queen problem and sudoku solver</li>\n",
    "    <li>In Graph Algorithms like Topological Sorting and Strongly Connected Components</li>\n",
    "</ol>\n"
   ]
  },
  {
   "cell_type": "markdown",
   "metadata": {},
   "source": [
    "# Operations in stack\n",
    "push(), pop(), isEmpty() and peek() all take O(1) time"
   ]
  },
  {
   "cell_type": "markdown",
   "metadata": {},
   "source": [
    "# Stack implementation using arrays"
   ]
  },
  {
   "cell_type": "code",
   "execution_count": 4,
   "metadata": {},
   "outputs": [
    {
     "name": "stdout",
     "output_type": "stream",
     "text": [
      "100 Pushed to stack.\n",
      "200 Pushed to stack.\n",
      "10 Pushed to stack.\n",
      "10 popped from the stack \n"
     ]
    }
   ],
   "source": [
    "from sys import maxsize\n",
    "\n",
    "#function to create a stack. It initilize size of stack as 0\n",
    "def createStack():\n",
    "    stack = []\n",
    "    return stack\n",
    "\n",
    "#function to check stack is empty\n",
    "def isEmpty(stack):\n",
    "    return len(stack) == 0\n",
    "\n",
    "#function to add an item to the stack and increase the size by 1\n",
    "def push(stack, item):\n",
    "    stack.append(item)\n",
    "    print(item + \" Pushed to stack.\")\n",
    "    \n",
    "#function to remove an item from the stack and it decrease stack by 1\n",
    "def pop(stack):\n",
    "    if(isEmpty(stack)):\n",
    "        return str(-maxsize-1) # return minus infinite\n",
    "    return stack.pop()\n",
    "\n",
    "\n",
    "stack = createStack()\n",
    "push(stack, str(100))\n",
    "push(stack, str(200))\n",
    "push(stack, str(10))\n",
    "\n",
    "print(pop(stack) + \" popped from the stack \")"
   ]
  },
  {
   "cell_type": "code",
   "execution_count": null,
   "metadata": {},
   "outputs": [],
   "source": []
  }
 ],
 "metadata": {
  "kernelspec": {
   "display_name": "Python 3",
   "language": "python",
   "name": "python3"
  },
  "language_info": {
   "codemirror_mode": {
    "name": "ipython",
    "version": 3
   },
   "file_extension": ".py",
   "mimetype": "text/x-python",
   "name": "python",
   "nbconvert_exporter": "python",
   "pygments_lexer": "ipython3",
   "version": "3.7.0"
  }
 },
 "nbformat": 4,
 "nbformat_minor": 2
}
