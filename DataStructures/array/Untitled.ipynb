{
 "cells": [
  {
   "cell_type": "markdown",
   "metadata": {},
   "source": [
    "# Search, insert and delete in an unsorted array"
   ]
  },
  {
   "cell_type": "markdown",
   "metadata": {},
   "source": [
    "Search Operation"
   ]
  },
  {
   "cell_type": "code",
   "execution_count": 1,
   "metadata": {},
   "outputs": [],
   "source": [
    "def findElement(arr,n, key):\n",
    "    for i in range(n):\n",
    "        if key == arr[i]:\n",
    "            return i\n",
    "    return -1"
   ]
  },
  {
   "cell_type": "code",
   "execution_count": 2,
   "metadata": {},
   "outputs": [
    {
     "name": "stdout",
     "output_type": "stream",
     "text": [
      "element found at position: 5\n"
     ]
    }
   ],
   "source": [
    "arr = [12, 34, 10, 6, 40] \n",
    "key = 40\n",
    "n = len(arr) \n",
    "   \n",
    "#search operation \n",
    "index = findElement(arr, n, key) \n",
    "if index != -1: \n",
    "    print (\"element found at position: \" + str(index + 1 ))  \n",
    "else: \n",
    "    print (\"element not found\") "
   ]
  },
  {
   "cell_type": "markdown",
   "metadata": {},
   "source": [
    "# Insertion"
   ]
  },
  {
   "cell_type": "code",
   "execution_count": 4,
   "metadata": {},
   "outputs": [],
   "source": [
    "def insert(arr, key):\n",
    "    arr.append(key)"
   ]
  },
  {
   "cell_type": "code",
   "execution_count": 5,
   "metadata": {},
   "outputs": [
    {
     "name": "stdout",
     "output_type": "stream",
     "text": [
      "Before Inserting: \n",
      "[12, 16, 20, 40, 50, 70]\n",
      "After Inserting: \n",
      "[12, 16, 20, 40, 50, 70, 26]\n"
     ]
    }
   ],
   "source": [
    "# declaring array and key to insert  \n",
    "arr = [12, 16, 20, 40, 50, 70] \n",
    "key = 26\n",
    "   \n",
    "# array before inserting an element \n",
    "print (\"Before Inserting: \") \n",
    "print (arr) \n",
    "   \n",
    "# array after Inserting element  \n",
    "insert(arr, key) \n",
    "print(\"After Inserting: \") \n",
    "print (arr) "
   ]
  },
  {
   "cell_type": "markdown",
   "metadata": {},
   "source": [
    "# Delete Operation\n",
    "\n",
    "In delete operation, the element to be deleted is searched using the linear search and then delete operation is performed followed by shifting the elements.\n"
   ]
  },
  {
   "cell_type": "code",
   "execution_count": 7,
   "metadata": {},
   "outputs": [
    {
     "name": "stdout",
     "output_type": "stream",
     "text": [
      "Array before dletion:\n",
      "[10, 50, 30, 40, 20]\n",
      "Array after deletion\n",
      "[10, 50, 40, 20]\n"
     ]
    }
   ],
   "source": [
    "arr = [10, 50, 30, 40, 20] \n",
    "key = 30\n",
    "   \n",
    "print(\"Array before dletion:\") \n",
    "print (arr) \n",
    "   \n",
    "# deletes key if found in the array  \n",
    "# otherwise shows error not in list \n",
    "arr.remove(key) \n",
    "print(\"Array after deletion\") \n",
    "print(arr) "
   ]
  },
  {
   "cell_type": "code",
   "execution_count": null,
   "metadata": {},
   "outputs": [],
   "source": [
    "\n"
   ]
  },
  {
   "cell_type": "markdown",
   "metadata": {},
   "source": [
    "# Search, insert and delete in a sorted array"
   ]
  },
  {
   "cell_type": "markdown",
   "metadata": {},
   "source": [
    "# Search Operation\n",
    "\n",
    "In a sorted array, the search operation can be performed by using binary search."
   ]
  },
  {
   "cell_type": "code",
   "execution_count": 12,
   "metadata": {},
   "outputs": [],
   "source": [
    "def binarySearch(arr,left,right,key):\n",
    "    if(left< right):\n",
    "        mid = left + (right-1)//2\n",
    "        if arr[mid] == key:\n",
    "            return mid\n",
    "        elif arr[mid] < key:\n",
    "            return binarySearch(arr, mid+1, right, key)\n",
    "        else:\n",
    "            return binarySearch(arr, left, mid-1, key)"
   ]
  },
  {
   "cell_type": "code",
   "execution_count": 13,
   "metadata": {},
   "outputs": [
    {
     "name": "stdout",
     "output_type": "stream",
     "text": [
      "Index: 5\n"
     ]
    }
   ],
   "source": [
    "arr = [5, 6, 7, 8, 9, 10] \n",
    "n = len(arr) \n",
    "key =10\n",
    "print(\"Index:\", int(binarySearch(arr,0, n, key) )) "
   ]
  },
  {
   "cell_type": "markdown",
   "metadata": {},
   "source": [
    "# Insert Operation\n",
    "\n",
    "In an unsorted array, the insert operation is faster as compared to sorted array because we don’t have to care about the position at which the element to be placed."
   ]
  },
  {
   "cell_type": "code",
   "execution_count": 38,
   "metadata": {},
   "outputs": [],
   "source": [
    "def sortedInsert(arr, key):\n",
    "    for i in range(len(arr)):\n",
    "        if arr[i] > key:\n",
    "            arr.insert((i), key)\n",
    "            return"
   ]
  },
  {
   "cell_type": "code",
   "execution_count": 39,
   "metadata": {},
   "outputs": [
    {
     "name": "stdout",
     "output_type": "stream",
     "text": [
      "Before Inserting: \n",
      "[12, 16, 20, 40, 50, 70]\n",
      "After Inserting: \n",
      "[12, 16, 20, 26, 40, 50, 70]\n"
     ]
    }
   ],
   "source": [
    "# declaring array and key to insert  \n",
    "arr = [12, 16, 20, 40, 50, 70] \n",
    "key = 26\n",
    "# array before inserting an element \n",
    "print (\"Before Inserting: \") \n",
    "print (arr) \n",
    "# array after Inserting element  \n",
    "sortedInsert(arr, key) \n",
    "print(\"After Inserting: \") \n",
    "print (arr) "
   ]
  },
  {
   "cell_type": "markdown",
   "metadata": {},
   "source": [
    "# Write a program to reverse an array or string\n"
   ]
  },
  {
   "cell_type": "code",
   "execution_count": 55,
   "metadata": {},
   "outputs": [],
   "source": [
    "def reverseListIteration(arr, start ,end):\n",
    "    while  start < end:\n",
    "        arr[start], arr[end]= arr[end], arr[start]\n",
    "        start+=1\n",
    "        end-=1"
   ]
  },
  {
   "cell_type": "code",
   "execution_count": 56,
   "metadata": {},
   "outputs": [],
   "source": [
    "def reverseListRecursion(arr, start, end):\n",
    "    if start >= end:\n",
    "        return\n",
    "    arr[start], arr[end] = arr[end], arr[start]\n",
    "    return reverseListRecursion(arr, start+1, end-1)"
   ]
  },
  {
   "cell_type": "code",
   "execution_count": 81,
   "metadata": {},
   "outputs": [],
   "source": [
    "def reverseListSlice(arr):\n",
    "    #return arr[::-1]\n",
    "    arr.reverse()"
   ]
  },
  {
   "cell_type": "code",
   "execution_count": 82,
   "metadata": {},
   "outputs": [
    {
     "name": "stdout",
     "output_type": "stream",
     "text": [
      "[1, 2, 3, 4, 5, 6]\n",
      "Reversed list is\n",
      "[6, 5, 4, 3, 2, 1]\n"
     ]
    }
   ],
   "source": [
    "A = [1, 2, 3, 4, 5, 6] \n",
    "print(A) \n",
    "#reverseListIteration(A, 0, 5)\n",
    "#reverseListRecursion(A,0,5)\n",
    "reverseListSlice(A)\n",
    "print(\"Reversed list is\") \n",
    "print(A) "
   ]
  },
  {
   "cell_type": "markdown",
   "metadata": {},
   "source": [
    "# Leaders in an array\n",
    "Write a program to print all the LEADERS in the array. An element is leader if it is greater than all the elements to its right side. And the rightmost element is always a leader. For example int the array {16, 17, 4, 3, 5, 2}, leaders are 17, 5 and 2.\n",
    "Let the input array be arr[] and size of the array be size."
   ]
  },
  {
   "cell_type": "code",
   "execution_count": 85,
   "metadata": {},
   "outputs": [],
   "source": [
    "def printLeadersSimple(arr, n):\n",
    "    for i in range(n):\n",
    "        flag = False\n",
    "        for j in range(i,n):\n",
    "            if arr[i]<arr[j]:\n",
    "                flag = True\n",
    "                break\n",
    "        if flag == False:\n",
    "            print(arr[i])\n",
    "          "
   ]
  },
  {
   "cell_type": "code",
   "execution_count": null,
   "metadata": {},
   "outputs": [],
   "source": [
    "def printLeadersOptimal(arr, n):\n",
    "    max_right = arr[n -1]\n",
    "    print(max_right)\n",
    "    \n",
    "    for i in range(n-2, i, -1):\n",
    "        \n",
    "        \n",
    "        "
   ]
  },
  {
   "cell_type": "code",
   "execution_count": 87,
   "metadata": {},
   "outputs": [
    {
     "name": "stdout",
     "output_type": "stream",
     "text": [
      "17\n",
      "5\n",
      "2\n"
     ]
    }
   ],
   "source": [
    "arr=[16, 17, 4, 3, 5, 2] \n",
    "#printLeadersSimple(arr, len(arr))  # O(n^2) complexity\n",
    "printLeadersOptimal(arr, len(arr)) # O(n) complexity"
   ]
  },
  {
   "cell_type": "markdown",
   "metadata": {},
   "source": [
    "# Given an array A[] and a number x, check for pair in A[] with sum as x"
   ]
  },
  {
   "cell_type": "markdown",
   "metadata": {},
   "source": [
    "# METHOD 1 (Use Sorting)\n",
    "\n"
   ]
  },
  {
   "cell_type": "raw",
   "metadata": {},
   "source": [
    "hasArrayTwoCandidates (A[], ar_size, sum)\n",
    "1) Sort the array in non-decreasing order.\n",
    "2) Initialize two index variables to find the candidate \n",
    "   elements in the sorted array.\n",
    "       (a) Initialize first to the leftmost index: l = 0\n",
    "       (b) Initialize second  the rightmost index:  r = ar_size-1\n",
    "3) Loop while l < r.\n",
    "       (a) If (A[l] + A[r] == sum)  then return 1\n",
    "       (b) Else if( A[l] + A[r] <  sum )  then l++\n",
    "       (c) Else r--    \n",
    "4) No candidates in whole array - return 0"
   ]
  },
  {
   "cell_type": "code",
   "execution_count": 55,
   "metadata": {},
   "outputs": [],
   "source": [
    "def hasArrayTwoCandidates(arr, n, element):\n",
    "    print(arr)\n",
    "    mergeSort(arr)\n",
    "    left = 0\n",
    "    right = len(arr)-1\n",
    "    \n",
    "    while left<right:\n",
    "        if arr[left] + arr[right] == element:\n",
    "            print(\"Elements are (\", arr[left] ,\",\" ,arr[right],\")\")\n",
    "            return 1\n",
    "        elif (arr[left] + arr[right] < element):\n",
    "            left+=1\n",
    "        else:\n",
    "            right-=1\n",
    "            \n",
    "    return 0"
   ]
  },
  {
   "cell_type": "code",
   "execution_count": 56,
   "metadata": {},
   "outputs": [],
   "source": [
    "def mergeSort(arr):\n",
    "    if len(arr) > 1:\n",
    "        mid = len(arr)//2\n",
    "        leftArray = arr[:mid]\n",
    "        rightArray = arr[mid:]\n",
    "        \n",
    "        mergeSort(leftArray)\n",
    "        mergeSort(rightArray)\n",
    "        \n",
    "        i=j=k=0\n",
    "        \n",
    "        while i<len(leftArray) and j < len(rightArray):\n",
    "            if leftArray[i] < rightArray[j]:\n",
    "                arr[k] = leftArray[i]\n",
    "                i+=1\n",
    "            else:\n",
    "                arr[k]= rightArray[j]\n",
    "                j+=1\n",
    "            k+=1\n",
    "                \n",
    "        while i<len(leftArray):\n",
    "            arr[k]= leftArray[i]\n",
    "            i+=1\n",
    "            k+=1\n",
    "            \n",
    "        while j<len(rightArray):\n",
    "            arr[k] = rightArray[j]\n",
    "            j+=1\n",
    "            k+=1"
   ]
  },
  {
   "cell_type": "code",
   "execution_count": 57,
   "metadata": {},
   "outputs": [
    {
     "name": "stdout",
     "output_type": "stream",
     "text": [
      "[1, 4, 45, 6, 10, -8]\n",
      "Elements are ( 6 , 10 )\n",
      "Array has two elements with the given sum\n"
     ]
    }
   ],
   "source": [
    "A = [1,4,45,6,10,-8] \n",
    "n = 16\n",
    "if (hasArrayTwoCandidates(A, len(A), n)): \n",
    "    print(\"Array has two elements with the given sum\") \n",
    "else: \n",
    "    print(\"Array doesn't have two elements with the given sum\") "
   ]
  },
  {
   "cell_type": "markdown",
   "metadata": {},
   "source": [
    "# METHOD 2 (Use Hashing)\n",
    "This method works in O(n) time"
   ]
  },
  {
   "cell_type": "raw",
   "metadata": {},
   "source": [
    "1) Initialize an empty hash table s.\n",
    "2) Do following for each element A[i] in A[]\n",
    "   (a)    If s[x - A[i]] is set then print the pair (A[i], x - A[i])\n",
    "   (b)    Insert A[i] into s."
   ]
  },
  {
   "cell_type": "code",
   "execution_count": 76,
   "metadata": {},
   "outputs": [],
   "source": [
    "def printPairs(arr,n,element):\n",
    "    hash = set()\n",
    "    for i in range (n):\n",
    "        temp = element - arr[i]\n",
    "        if (temp>=0 and temp in hash):\n",
    "            print(\"Pair with the given sum is \", arr[i], \"and \", temp)\n",
    "        hash.add(arr[i])\n",
    "        print(temp)\n",
    "    print(hash)"
   ]
  },
  {
   "cell_type": "code",
   "execution_count": 77,
   "metadata": {},
   "outputs": [
    {
     "name": "stdout",
     "output_type": "stream",
     "text": [
      "15\n",
      "12\n",
      "-29\n",
      "10\n",
      "Pair with the given sum is  10 and  6\n",
      "6\n",
      "8\n",
      "{1, 4, 6, 8, 10, 45}\n"
     ]
    }
   ],
   "source": [
    "A = [1,4,45,6,10,8] \n",
    "n = 16\n",
    "printPairs(A, len(A), n) "
   ]
  },
  {
   "cell_type": "code",
   "execution_count": 78,
   "metadata": {},
   "outputs": [
    {
     "name": "stdout",
     "output_type": "stream",
     "text": [
      "{1, 2, 3, 5, 8, 9, 11, 15}\n"
     ]
    }
   ],
   "source": [
    "arr = [1,9,2,3,15,11,5,8]\n",
    "hash = set(arr)\n",
    "print(hash)"
   ]
  },
  {
   "cell_type": "code",
   "execution_count": null,
   "metadata": {},
   "outputs": [],
   "source": []
  },
  {
   "cell_type": "markdown",
   "metadata": {},
   "source": [
    "# Majority Element\n",
    "Write a function which takes an array and prints the majority element (if it exists), otherwise prints “No Majority Element”. A majority element in an array A[] of size n is an element that appears more than n/2 times (and hence there is at most one such element)."
   ]
  },
  {
   "cell_type": "markdown",
   "metadata": {},
   "source": [
    "# METHOD 1 (Basic)\n",
    "The basic solution is to have two loops and keep track of maximum count for all different elements. If maximum count becomes greater than n/2 then break the loops and return the element having maximum count. If maximum count doesn’t become more than n/2 then majority element doesn’t exist.\n",
    "Below is the implementation of the above approach :"
   ]
  },
  {
   "cell_type": "code",
   "execution_count": 87,
   "metadata": {},
   "outputs": [],
   "source": [
    "def findMajority(arr,n):\n",
    "    maxCount=0\n",
    "    index =-1\n",
    "    for i in range(n):\n",
    "        count =0\n",
    "        for j in range(n):\n",
    "            if arr[i] == arr[j]:\n",
    "                count+=1\n",
    "        if(count> maxCount):\n",
    "            maxCount = count\n",
    "            index = i\n",
    "    \n",
    "    print(\"maximum count is \", maxCount)\n",
    "    print(\"Element \", arr[index])\n",
    "        "
   ]
  },
  {
   "cell_type": "code",
   "execution_count": 88,
   "metadata": {},
   "outputs": [
    {
     "name": "stdout",
     "output_type": "stream",
     "text": [
      "maximum count is  4\n",
      "Element  1\n"
     ]
    }
   ],
   "source": [
    "if __name__ == \"__main__\": \n",
    "    arr = [1, 1, 2, 1, 3, 5, 1] \n",
    "    n = len(arr) \n",
    "      \n",
    "    # Function calling  \n",
    "    findMajority(arr, n) "
   ]
  },
  {
   "cell_type": "raw",
   "metadata": {},
   "source": [
    "Time Complexity : O(n*n).\n",
    "Auxiliary Space : O(1)"
   ]
  },
  {
   "cell_type": "code",
   "execution_count": null,
   "metadata": {},
   "outputs": [],
   "source": []
  },
  {
   "cell_type": "markdown",
   "metadata": {},
   "source": [
    "# METHOD 2 (Using Moore’s Voting Algorithm)"
   ]
  },
  {
   "cell_type": "code",
   "execution_count": 103,
   "metadata": {},
   "outputs": [],
   "source": [
    "# Function to find the majority candidate \n",
    "def findCandidate(arr):\n",
    "    maj_index = 0\n",
    "    count = 1\n",
    "    for i in range(len(arr)):\n",
    "        if arr[maj_index] == arr[i]:\n",
    "            count+=1\n",
    "        else:\n",
    "            count-=1\n",
    "            \n",
    "        if count == 0:\n",
    "            maj_index = i\n",
    "            count =1\n",
    "            \n",
    "    return arr[maj_index]"
   ]
  },
  {
   "cell_type": "code",
   "execution_count": 104,
   "metadata": {},
   "outputs": [],
   "source": [
    "def isMajority(arr):\n",
    "    candidate = findCandidate(arr)\n",
    "    count = 0\n",
    "    for i in range(len(arr)):\n",
    "        if arr[i] == candidate:\n",
    "            count+=1\n",
    "        \n",
    "    if len(arr)//2 < count:\n",
    "        print('Majority element is ', candidate, 'with count', count)\n",
    "    else:\n",
    "        print('There is no majority element.')"
   ]
  },
  {
   "cell_type": "code",
   "execution_count": 105,
   "metadata": {},
   "outputs": [
    {
     "name": "stdout",
     "output_type": "stream",
     "text": [
      "Majority element is  1 with count 4\n"
     ]
    }
   ],
   "source": [
    "# arr = [1, 3, 3, 1, 2]\n",
    "arr = [1, 1, 2, 1, 3, 5, 1] \n",
    "isMajority(arr)  "
   ]
  },
  {
   "cell_type": "raw",
   "metadata": {},
   "source": [
    "Time Complexity: O(n)\n",
    "Auxiliary Space : O(1)"
   ]
  },
  {
   "cell_type": "markdown",
   "metadata": {},
   "source": [
    "# METHOD 3 Misra-Gries Family of Algorithms"
   ]
  },
  {
   "cell_type": "code",
   "execution_count": 106,
   "metadata": {},
   "outputs": [],
   "source": [
    "def majorityNumber(arr):\n",
    "    key, count = None, 0\n",
    "    for num in arr:\n",
    "        if key is None:\n",
    "            key = num\n",
    "            count+=1\n",
    "            \n",
    "        else:\n",
    "            if key == num:\n",
    "                count+=1\n",
    "            else:\n",
    "                count-=1\n",
    "                \n",
    "        if count == 0:\n",
    "            key = None\n",
    "    return key"
   ]
  },
  {
   "cell_type": "code",
   "execution_count": 107,
   "metadata": {},
   "outputs": [
    {
     "name": "stdout",
     "output_type": "stream",
     "text": [
      "2\n"
     ]
    }
   ],
   "source": [
    "a = [2, 2, 1, 1, 1, 2, 2] \n",
    "print (majorityNumber(a)) "
   ]
  },
  {
   "cell_type": "code",
   "execution_count": null,
   "metadata": {},
   "outputs": [],
   "source": []
  }
 ],
 "metadata": {
  "kernelspec": {
   "display_name": "Python 3",
   "language": "python",
   "name": "python3"
  },
  "language_info": {
   "codemirror_mode": {
    "name": "ipython",
    "version": 3
   },
   "file_extension": ".py",
   "mimetype": "text/x-python",
   "name": "python",
   "nbconvert_exporter": "python",
   "pygments_lexer": "ipython3",
   "version": "3.7.0"
  }
 },
 "nbformat": 4,
 "nbformat_minor": 2
}
