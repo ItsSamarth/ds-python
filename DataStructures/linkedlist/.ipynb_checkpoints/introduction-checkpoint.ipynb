{
 "cells": [
  {
   "cell_type": "markdown",
   "metadata": {},
   "source": [
    "# LINKED LIST"
   ]
  },
  {
   "cell_type": "raw",
   "metadata": {},
   "source": [
    "Advantages over arrays\n",
    "1) Dynamic size\n",
    "2) Ease of insertion/deletion\n",
    "\n",
    "Drawbacks:\n",
    "1) Random access is not allowed. We have to access elements sequentially starting from the first node. So we cannot do binary search with linked lists efficiently with its default implementation. Read about it here.\n",
    "2) Extra memory space for a pointer is required with each element of the list.\n",
    "3) Not cache friendly. Since array elements are contiguous locations, there is locality of reference which is not there in case of linked lists."
   ]
  },
  {
   "cell_type": "code",
   "execution_count": null,
   "metadata": {},
   "outputs": [],
   "source": []
  },
  {
   "cell_type": "markdown",
   "metadata": {},
   "source": [
    "# Node Creation"
   ]
  },
  {
   "cell_type": "code",
   "execution_count": 1,
   "metadata": {},
   "outputs": [],
   "source": [
    "class Node:\n",
    "    def __init__(self, key):\n",
    "        self.val = key\n",
    "        self.next = None"
   ]
  },
  {
   "cell_type": "code",
   "execution_count": 2,
   "metadata": {},
   "outputs": [],
   "source": [
    "#Linked list class \n",
    "class LinkedList:\n",
    "    #function to initilize the linked list\n",
    "    #list object \n",
    "    \n",
    "    def __init__(self):\n",
    "        self.head = None"
   ]
  },
  {
   "cell_type": "code",
   "execution_count": null,
   "metadata": {},
   "outputs": [],
   "source": [
    "\n",
    "\n"
   ]
  },
  {
   "cell_type": "markdown",
   "metadata": {},
   "source": [
    "# create a simple linked list with 3 nodes."
   ]
  },
  {
   "cell_type": "code",
   "execution_count": 3,
   "metadata": {},
   "outputs": [],
   "source": [
    "# A simple Python program to introduce a linked list \n",
    "  \n",
    "# Node class \n",
    "class Node: \n",
    "  \n",
    "    # Function to initialise the node object \n",
    "    def __init__(self, data): \n",
    "        self.data = data  # Assign data \n",
    "        self.next = None  # Initialize next as null \n",
    "  \n",
    "  \n",
    "# Linked List class contains a Node object \n",
    "class LinkedList: \n",
    "  \n",
    "    # Function to initialize head \n",
    "    def __init__(self): \n",
    "        self.head = None\n",
    "  \n",
    "  \n",
    "# Code execution starts here \n",
    "if __name__=='__main__': \n",
    "  \n",
    "    # Start with the empty list \n",
    "    llist = LinkedList() \n",
    "  \n",
    "    llist.head  = Node(1) \n",
    "    second = Node(2) \n",
    "    third  = Node(3) \n",
    "  \n",
    "    ''' \n",
    "    Three nodes have been created. \n",
    "    We have references to these three blocks as first, \n",
    "    second and third \n",
    "  \n",
    "    llist.head        second              third \n",
    "         |                |                  | \n",
    "         |                |                  | \n",
    "    +----+------+     +----+------+     +----+------+ \n",
    "    | 1  | None |     | 2  | None |     |  3 | None | \n",
    "    +----+------+     +----+------+     +----+------+ \n",
    "    '''\n",
    "  \n",
    "    llist.head.next = second; # Link first node with second  \n",
    "  \n",
    "    ''' \n",
    "    Now next of first Node refers to second.  So they \n",
    "    both are linked. \n",
    "  \n",
    "    llist.head        second              third \n",
    "         |                |                  | \n",
    "         |                |                  | \n",
    "    +----+------+     +----+------+     +----+------+ \n",
    "    | 1  |  o-------->| 2  | null |     |  3 | null | \n",
    "    +----+------+     +----+------+     +----+------+  \n",
    "    '''\n",
    "  \n",
    "    second.next = third; # Link second node with the third node \n",
    "  \n",
    "    ''' \n",
    "    Now next of second Node refers to third.  So all three \n",
    "    nodes are linked. \n",
    "  \n",
    "    llist.head        second              third \n",
    "         |                |                  | \n",
    "         |                |                  | \n",
    "    +----+------+     +----+------+     +----+------+ \n",
    "    | 1  |  o-------->| 2  |  o-------->|  3 | null | \n",
    "    +----+------+     +----+------+     +----+------+  \n",
    "    '''"
   ]
  },
  {
   "cell_type": "code",
   "execution_count": 4,
   "metadata": {},
   "outputs": [],
   "source": [
    "# Practice "
   ]
  },
  {
   "cell_type": "code",
   "execution_count": 9,
   "metadata": {},
   "outputs": [],
   "source": [
    "class Node:\n",
    "    def __init__(self,key):\n",
    "        self.val = key\n",
    "        self.next = None\n",
    "\n",
    "class LinkedList:\n",
    "    def __init__(self):\n",
    "        self.head = None"
   ]
  },
  {
   "cell_type": "code",
   "execution_count": 10,
   "metadata": {},
   "outputs": [],
   "source": [
    "#traversing linkedlist\n",
    "\n",
    "def printList(self):\n",
    "    temp = self.head\n",
    "    while(temp):\n",
    "        print(temp.val)\n",
    "        temp = temp.next"
   ]
  },
  {
   "cell_type": "code",
   "execution_count": 12,
   "metadata": {},
   "outputs": [
    {
     "name": "stdout",
     "output_type": "stream",
     "text": [
      "1\n",
      "2\n",
      "3\n"
     ]
    }
   ],
   "source": [
    "if __name__ == '__main__':\n",
    "    \n",
    "    llist = LinkedList()\n",
    "    \n",
    "    llist.head = Node(1)\n",
    "    second = Node(2)\n",
    "    third = Node(3)\n",
    "    \n",
    "    llist.head.next = second\n",
    "    \n",
    "    second.next = third\n",
    "    \n",
    "    printList(llist)"
   ]
  },
  {
   "cell_type": "code",
   "execution_count": null,
   "metadata": {},
   "outputs": [],
   "source": []
  },
  {
   "cell_type": "code",
   "execution_count": null,
   "metadata": {},
   "outputs": [],
   "source": []
  },
  {
   "cell_type": "markdown",
   "metadata": {},
   "source": [
    "# LINKED LIST INSERTION"
   ]
  },
  {
   "cell_type": "markdown",
   "metadata": {},
   "source": [
    "# Add a node at the front"
   ]
  },
  {
   "cell_type": "code",
   "execution_count": 13,
   "metadata": {},
   "outputs": [],
   "source": [
    "def pushFront(self, new_data):\n",
    "    new_node = Node(new_data)\n",
    "    new_node.next = self.head\n",
    "    self.head = new_node"
   ]
  },
  {
   "cell_type": "markdown",
   "metadata": {},
   "source": [
    "# Add a node after a given node"
   ]
  },
  {
   "cell_type": "code",
   "execution_count": null,
   "metadata": {},
   "outputs": [],
   "source": [
    "def insertAfter(self,prev_node, new_data):\n",
    "    if prev_node is None:\n",
    "        print('The given previous node must be in linked list')\n",
    "        return \n",
    "    new_node = Node(new_data)\n",
    "    new_node.next = previous_node.next\n",
    "    prev_node.next = new_node"
   ]
  },
  {
   "cell_type": "markdown",
   "metadata": {},
   "source": [
    "# Add a node at the end"
   ]
  },
  {
   "cell_type": "code",
   "execution_count": 14,
   "metadata": {},
   "outputs": [],
   "source": [
    "def append(self, new_data):\n",
    "    new_node = Node(new_data)\n",
    "    \n",
    "    if self.head is None:\n",
    "        self.head = new_node\n",
    "        \n",
    "    temp = self.head \n",
    "    \n",
    "    while(temp.next):\n",
    "        temp = temp.next\n",
    "        \n",
    "    temp.next = new_node"
   ]
  },
  {
   "cell_type": "markdown",
   "metadata": {},
   "source": [
    "# Program with all these operations"
   ]
  },
  {
   "cell_type": "code",
   "execution_count": 20,
   "metadata": {},
   "outputs": [],
   "source": [
    "class Node:\n",
    "    def __init__(self, key):\n",
    "        self.next = None\n",
    "        self.val = key\n",
    "        \n",
    "class LinkedList:\n",
    "    def __init__(self):\n",
    "        self.head = None\n",
    "        \n",
    "    def insertFront(self, node_data):\n",
    "        new_node = Node(node_data)        \n",
    "        new_node.next = self.head\n",
    "        self.head = new_node\n",
    "        \n",
    "    def insertAfter(self, previous_node, new_data):\n",
    "        if previous_node is None:\n",
    "            print(\"Previous node must present in list\")\n",
    "            return\n",
    "        \n",
    "        new_node = Node(new_data)\n",
    "        new_node.next = previous_node.next\n",
    "        previous_node.next = new_node\n",
    "        \n",
    "    def append(self, new_data):\n",
    "        new_node = Node(new_data)\n",
    "        \n",
    "        if self.head is None:\n",
    "            self.head = new_node\n",
    "            return \n",
    "        \n",
    "        temp = self.head\n",
    "        while temp.next:\n",
    "            temp = temp.next\n",
    "            \n",
    "        temp.next = new_node\n",
    "        \n",
    "        \n",
    "    #function to print the list\n",
    "    def printList(self):\n",
    "        temp = self.head\n",
    "        while temp:\n",
    "            print(temp.val)\n",
    "            temp = temp.next"
   ]
  },
  {
   "cell_type": "code",
   "execution_count": 21,
   "metadata": {},
   "outputs": [
    {
     "name": "stdout",
     "output_type": "stream",
     "text": [
      "created linkedlist is-:\n",
      "1\n",
      "7\n",
      "8\n",
      "6\n",
      "4\n"
     ]
    }
   ],
   "source": [
    "if __name__ == '__main__':\n",
    "    llist = LinkedList()\n",
    "    llist.append(6)\n",
    "    llist.insertFront(7)\n",
    "    llist.insertFront(1)\n",
    "    llist.append(4)\n",
    "    llist.insertAfter(llist.head.next, 8)\n",
    "    \n",
    "    print('created linkedlist is-:')\n",
    "    llist.printList()"
   ]
  },
  {
   "cell_type": "markdown",
   "metadata": {},
   "source": [
    "# LinkedList (Deleting a node)"
   ]
  },
  {
   "cell_type": "code",
   "execution_count": 10,
   "metadata": {},
   "outputs": [],
   "source": [
    "class Node:\n",
    "    def __init__(self, key):\n",
    "        self.next = None\n",
    "        self.val = key\n",
    "        \n",
    "class LinkedList:\n",
    "    def __init__(self):\n",
    "        self.head = None\n",
    "        \n",
    "        \n",
    "    def push(self, new_data):\n",
    "        new_node = Node(new_data)\n",
    "        new_node.next = self.head\n",
    "        self.head = new_node\n",
    "        \n",
    "        \n",
    "    def deleteNode(self, key):\n",
    "        temp = self.head \n",
    "        \n",
    "        if (temp is not None):\n",
    "            if temp.val == key:\n",
    "                self.head = temp.next\n",
    "                temp = None\n",
    "                return \n",
    "            \n",
    "        while temp is not None:\n",
    "            if temp.val == key:\n",
    "                break;\n",
    "                \n",
    "            prev_node = temp\n",
    "            temp = temp.next\n",
    "            \n",
    "        if temp == None:\n",
    "            return \n",
    "        \n",
    "        prev_node.next = temp.next\n",
    "        temp = None\n",
    "        \n",
    "        \n",
    "    def printList(self):\n",
    "        temp = self.head\n",
    "        while temp:\n",
    "            print(temp.val)\n",
    "            temp = temp.next\n",
    "            \n",
    "            \n",
    "    "
   ]
  },
  {
   "cell_type": "code",
   "execution_count": 11,
   "metadata": {},
   "outputs": [
    {
     "name": "stdout",
     "output_type": "stream",
     "text": [
      "Created linkedlist\n",
      "2\n",
      "3\n",
      "1\n",
      "7\n",
      "Linkedlist after deleting 1\n",
      "2\n",
      "3\n",
      "7\n"
     ]
    }
   ],
   "source": [
    "llist = LinkedList()\n",
    "llist.push(7)\n",
    "llist.push(1)\n",
    "llist.push(3)\n",
    "llist.push(2)\n",
    "\n",
    "print(\"Created linkedlist\")\n",
    "llist.printList()\n",
    "llist.deleteNode(1)\n",
    "\n",
    "print(\"Linkedlist after deleting 1\")\n",
    "llist.printList()"
   ]
  },
  {
   "cell_type": "code",
   "execution_count": null,
   "metadata": {},
   "outputs": [],
   "source": []
  },
  {
   "cell_type": "markdown",
   "metadata": {},
   "source": [
    "# Delete a Linked List node at a given position"
   ]
  },
  {
   "cell_type": "code",
   "execution_count": 13,
   "metadata": {},
   "outputs": [],
   "source": [
    "class Node:\n",
    "    def __init__(self, key):\n",
    "        self.next = None\n",
    "        self.val = key\n",
    "        \n",
    "class LinkedList:\n",
    "    def __init__ (self):\n",
    "        self.head = None\n",
    "        \n",
    "    def push(self, new_data):\n",
    "        new_node  = Node(new_data)\n",
    "        new_node.next = self.head\n",
    "        self.head = new_node\n",
    "        \n",
    "        \n",
    "    def deleteNode(self, position):\n",
    "        \n",
    "        # If list is none\n",
    "        if self.head is None:\n",
    "            return \n",
    "        \n",
    "        temp = self.head\n",
    "        \n",
    "        # if we have to remove head\n",
    "        if position == 0:\n",
    "            self.head = temp.next\n",
    "            temp = None\n",
    "            return \n",
    "        \n",
    "        #we need to get previous node\n",
    "        for i in range(position-1):\n",
    "            temp = temp.next\n",
    "            if temp is None:\n",
    "                break\n",
    "                \n",
    "                \n",
    "        #we need to check we come to the end\n",
    "        if temp is None:\n",
    "            return\n",
    "        \n",
    "        if temp.next is None:\n",
    "            return\n",
    "        \n",
    "        #Now we are in previous Node\n",
    "        #unlink the node form the linkedlist\n",
    "        next = temp.next.next\n",
    "        temp.next = None\n",
    "        temp.next = next\n",
    "        \n",
    "        \n",
    "        \n",
    "    def printList(self):\n",
    "        temp = self.head\n",
    "        while temp:\n",
    "            print(temp.val)\n",
    "            temp = temp.next\n",
    "            \n",
    "            \n"
   ]
  },
  {
   "cell_type": "code",
   "execution_count": 16,
   "metadata": {},
   "outputs": [
    {
     "name": "stdout",
     "output_type": "stream",
     "text": [
      "Created linkedlist is:\n",
      "8\n",
      "2\n",
      "3\n",
      "1\n",
      "7\n",
      "Linkedlist after deletion at position 2\n",
      "8\n",
      "2\n",
      "1\n",
      "7\n"
     ]
    }
   ],
   "source": [
    "llist = LinkedList()\n",
    "llist.push(7)\n",
    "llist.push(1)\n",
    "llist.push(3)\n",
    "llist.push(2)\n",
    "llist.push(8)\n",
    "\n",
    "print('Created linkedlist is:')\n",
    "llist.printList()\n",
    "\n",
    "llist.deleteNode(2)\n",
    "print('Linkedlist after deletion at position 2')\n",
    "llist.printList()"
   ]
  },
  {
   "cell_type": "markdown",
   "metadata": {},
   "source": [
    "# Find Length of a Linked List (Iterative and Recursive)"
   ]
  },
  {
   "cell_type": "markdown",
   "metadata": {},
   "source": [
    "# Iterative"
   ]
  },
  {
   "cell_type": "code",
   "execution_count": 17,
   "metadata": {},
   "outputs": [],
   "source": [
    "class Node:\n",
    "    def __init__(self,key):\n",
    "        self.next = None\n",
    "        self.val = key\n",
    "        \n",
    "class LinkedList:\n",
    "    def __init__(self):\n",
    "        self.head= None\n",
    "        \n",
    "    def push(self, new_data):\n",
    "        new_node = Node(new_data)\n",
    "        new_node.next = self.head \n",
    "        self.head = new_node\n",
    "        \n",
    "    def getCount(self):\n",
    "        temp = self.head\n",
    "        count = 0\n",
    "        \n",
    "        while temp:\n",
    "            temp = temp.next\n",
    "            count +=1\n",
    "        return count"
   ]
  },
  {
   "cell_type": "code",
   "execution_count": 19,
   "metadata": {},
   "outputs": [
    {
     "name": "stdout",
     "output_type": "stream",
     "text": [
      "The count of the node is 5\n"
     ]
    }
   ],
   "source": [
    "llist = LinkedList()\n",
    "llist.push(1)\n",
    "llist.push(3)\n",
    "llist.push(1)\n",
    "llist.push(2)\n",
    "llist.push(1)\n",
    "\n",
    "print(\"The count of the node is\", llist.getCount())"
   ]
  },
  {
   "cell_type": "markdown",
   "metadata": {},
   "source": [
    "# Recursive"
   ]
  },
  {
   "cell_type": "code",
   "execution_count": 21,
   "metadata": {},
   "outputs": [],
   "source": [
    "class Node:\n",
    "    def __init__(self, key):\n",
    "        self.next = None\n",
    "        self.val = key\n",
    "\n",
    "class LinkedList:\n",
    "    def __init__(self):\n",
    "        self.head = None\n",
    "        \n",
    "    def push(self, new_data):\n",
    "        new_node = Node(new_data)\n",
    "        new_node.next = self.head\n",
    "        self.head = new_node\n",
    "        \n",
    "    def getCount(self):\n",
    "        return self.getCountRec(self.head)\n",
    "    \n",
    "    def getCountRec(self, node):\n",
    "        if not node:\n",
    "            return 0\n",
    "        else:\n",
    "            return 1 + self.getCountRec(node.next)"
   ]
  },
  {
   "cell_type": "code",
   "execution_count": 24,
   "metadata": {},
   "outputs": [
    {
     "name": "stdout",
     "output_type": "stream",
     "text": [
      "Count of nodes is : 7\n"
     ]
    }
   ],
   "source": [
    "# Code execution starts here \n",
    "if __name__=='__main__': \n",
    "    llist = LinkedList() \n",
    "    llist.push(1) \n",
    "    llist.push(3) \n",
    "    llist.push(1) \n",
    "    llist.push(2) \n",
    "    llist.push(1)\n",
    "    llist.push(2) \n",
    "    llist.push(1)\n",
    "    print ('Count of nodes is :',llist.getCount())"
   ]
  },
  {
   "cell_type": "markdown",
   "metadata": {},
   "source": [
    "# Swap nodes in a linked list without swapping data "
   ]
  },
  {
   "cell_type": "code",
   "execution_count": 25,
   "metadata": {},
   "outputs": [],
   "source": [
    "class Node:\n",
    "    def __init__(self, key):\n",
    "        self.next = None\n",
    "        self.val = key\n",
    "        \n",
    "class LinkedList:\n",
    "    def __init__(self):\n",
    "        self.head = None\n",
    "        \n",
    "        \n",
    "    def push(self, new_data):\n",
    "        new_node = Node(new_data)\n",
    "        new_node.next = self.head\n",
    "        self.head = new_node\n",
    "        \n",
    "    def swapNodes(self, x, y):\n",
    "        #Do nothing if x and y are same \n",
    "        if x == y:\n",
    "            return\n",
    "        \n",
    "        #search for x and keep track of previous node and current node\n",
    "        prevX = None\n",
    "        currX = self.head\n",
    "        \n",
    "        while currX != None and currX.val != x:\n",
    "            prevX = currX\n",
    "            currX = currX.next\n",
    "            \n",
    "        \n",
    "        #Search for Y and keep track of previous node and current node of Y\n",
    "        prevY = None\n",
    "        currY =self.head\n",
    "        \n",
    "        while currY != None and currY.val != y:\n",
    "            prevY = currY\n",
    "            currY = currY.next\n",
    "            \n",
    "        #if either X or Y is not present then return None\n",
    "        if currX == None or currY == None:\n",
    "            return\n",
    "        \n",
    "        #If x is not head of linkedlist\n",
    "        if currX != None:\n",
    "            prevX.next = currY\n",
    "        else:\n",
    "            #make y as new head\n",
    "            self.head = currY\n",
    "            \n",
    "        #if Y is not head of linkedlist\n",
    "        \n",
    "        if currY != None:\n",
    "            prevY.next = currX\n",
    "        else:\n",
    "            #make x as new head\n",
    "            self.head = currX\n",
    "            \n",
    "        #swap remaining pointers    \n",
    "        currX.next , currY.next = currY.next , currX.next\n",
    "        \n",
    "    def printList(self):\n",
    "        temp = self.node\n",
    "        while temp:\n",
    "            print(temp.val)\n",
    "            temp = temp.next\n",
    "        "
   ]
  },
  {
   "cell_type": "code",
   "execution_count": 26,
   "metadata": {},
   "outputs": [
    {
     "ename": "SyntaxError",
     "evalue": "invalid syntax (<ipython-input-26-6204b2d0d564>, line 12)",
     "output_type": "error",
     "traceback": [
      "\u001b[1;36m  File \u001b[1;32m\"<ipython-input-26-6204b2d0d564>\"\u001b[1;36m, line \u001b[1;32m12\u001b[0m\n\u001b[1;33m    print \"Linked list before calling swapNodes() \"\u001b[0m\n\u001b[1;37m                                                  ^\u001b[0m\n\u001b[1;31mSyntaxError\u001b[0m\u001b[1;31m:\u001b[0m invalid syntax\n"
     ]
    }
   ],
   "source": [
    "llist = LinkedList() \n",
    "  \n",
    "# The constructed linked list is: \n",
    "# 1->2->3->4->5->6->7 \n",
    "llist.push(7) \n",
    "llist.push(6) \n",
    "llist.push(5) \n",
    "llist.push(4) \n",
    "llist.push(3) \n",
    "llist.push(2) \n",
    "llist.push(1) \n",
    "print (\"Linked list before calling swapNodes() \")\n",
    "llist.printList() \n",
    "llist.swapNodes(4, 3) \n",
    "print (\"\\nLinked list after calling swapNodes() \")\n",
    "llist.printList() "
   ]
  },
  {
   "cell_type": "code",
   "execution_count": null,
   "metadata": {},
   "outputs": [],
   "source": []
  }
 ],
 "metadata": {
  "kernelspec": {
   "display_name": "Python 3",
   "language": "python",
   "name": "python3"
  },
  "language_info": {
   "codemirror_mode": {
    "name": "ipython",
    "version": 3
   },
   "file_extension": ".py",
   "mimetype": "text/x-python",
   "name": "python",
   "nbconvert_exporter": "python",
   "pygments_lexer": "ipython3",
   "version": "3.7.0"
  }
 },
 "nbformat": 4,
 "nbformat_minor": 2
}
